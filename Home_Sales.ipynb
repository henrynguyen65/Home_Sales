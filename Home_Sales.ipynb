{
 "cells": [
  {
   "cell_type": "code",
   "execution_count": 5,
   "metadata": {
    "colab": {
     "base_uri": "https://localhost:8080/"
    },
    "executionInfo": {
     "elapsed": 34930,
     "status": "ok",
     "timestamp": 1713232547983,
     "user": {
      "displayName": "Henry Nguyen",
      "userId": "14859918641636892150"
     },
     "user_tz": 300
    },
    "id": "a_KW73O2e3dw",
    "outputId": "e7db6199-9dfa-4645-f5a8-bad076a50299"
   },
   "outputs": [
    {
     "name": "stdout",
     "output_type": "stream",
     "text": [
      "\r",
      "0% [Working]\r",
      "            \r",
      "Hit:1 http://security.ubuntu.com/ubuntu jammy-security InRelease\n",
      "\r",
      "0% [Waiting for headers] [Waiting for headers] [Connecting to ppa.launchpadcontent.net (185.125.190.\r",
      "                                                                                                    \r",
      "Hit:2 https://cloud.r-project.org/bin/linux/ubuntu jammy-cran40/ InRelease\n",
      "Hit:3 http://archive.ubuntu.com/ubuntu jammy InRelease\n",
      "Hit:4 https://developer.download.nvidia.com/compute/cuda/repos/ubuntu2204/x86_64  InRelease\n",
      "Hit:5 http://archive.ubuntu.com/ubuntu jammy-updates InRelease\n",
      "Hit:6 http://archive.ubuntu.com/ubuntu jammy-backports InRelease\n",
      "Hit:7 https://ppa.launchpadcontent.net/c2d4u.team/c2d4u4.0+/ubuntu jammy InRelease\n",
      "Hit:8 https://ppa.launchpadcontent.net/deadsnakes/ppa/ubuntu jammy InRelease\n",
      "Hit:9 https://ppa.launchpadcontent.net/graphics-drivers/ppa/ubuntu jammy InRelease\n",
      "Hit:10 https://ppa.launchpadcontent.net/ubuntugis/ppa/ubuntu jammy InRelease\n",
      "Reading package lists... Done\n"
     ]
    }
   ],
   "source": [
    "import os\n",
    "# Find the latest version of spark 3.x  from http://www.apache.org/dist/spark/ and enter as the spark version\n",
    "# For example:\n",
    "# spark_version = 'spark-3.5.1'\n",
    "spark_version = 'spark-3.5.1'\n",
    "os.environ['SPARK_VERSION']=spark_version\n",
    "\n",
    "# Install Spark and Java\n",
    "!apt-get update\n",
    "!apt-get install openjdk-11-jdk-headless -qq > /dev/null\n",
    "!wget -q http://www.apache.org/dist/spark/$SPARK_VERSION/$SPARK_VERSION-bin-hadoop3.tgz\n",
    "!tar xf $SPARK_VERSION-bin-hadoop3.tgz\n",
    "!pip install -q findspark\n",
    "\n",
    "# Set Environment Variables\n",
    "os.environ[\"JAVA_HOME\"] = \"/usr/lib/jvm/java-11-openjdk-amd64\"\n",
    "os.environ[\"SPARK_HOME\"] = f\"/content/{spark_version}-bin-hadoop3\"\n",
    "\n",
    "# Start a SparkSession\n",
    "import findspark\n",
    "findspark.init()"
   ]
  },
  {
   "cell_type": "code",
   "execution_count": 6,
   "metadata": {
    "executionInfo": {
     "elapsed": 11,
     "status": "ok",
     "timestamp": 1713232547983,
     "user": {
      "displayName": "Henry Nguyen",
      "userId": "14859918641636892150"
     },
     "user_tz": 300
    },
    "id": "2XbWNf1Te5fM"
   },
   "outputs": [],
   "source": [
    "# Import packages\n",
    "from pyspark.sql import SparkSession\n",
    "import time\n",
    "\n",
    "# Create a SparkSession\n",
    "spark = SparkSession.builder.appName(\"SparkSQL\").getOrCreate()"
   ]
  },
  {
   "cell_type": "code",
   "execution_count": 7,
   "metadata": {
    "colab": {
     "base_uri": "https://localhost:8080/"
    },
    "executionInfo": {
     "elapsed": 1133,
     "status": "ok",
     "timestamp": 1713232549108,
     "user": {
      "displayName": "Henry Nguyen",
      "userId": "14859918641636892150"
     },
     "user_tz": 300
    },
    "id": "wOJqxG_RPSwp",
    "outputId": "d200471b-b466-4a89-b073-a36586ea6543"
   },
   "outputs": [
    {
     "name": "stdout",
     "output_type": "stream",
     "text": [
      "+--------------------+----------+----------+------+--------+---------+-----------+--------+------+----------+----+\n",
      "|                  id|      date|date_built| price|bedrooms|bathrooms|sqft_living|sqft_lot|floors|waterfront|view|\n",
      "+--------------------+----------+----------+------+--------+---------+-----------+--------+------+----------+----+\n",
      "|f8a53099-ba1c-47d...|2022-04-08|      2016|936923|       4|        3|       3167|   11733|     2|         1|  76|\n",
      "|7530a2d8-1ae3-451...|2021-06-13|      2013|379628|       2|        2|       2235|   14384|     1|         0|  23|\n",
      "|43de979c-0bf0-4c9...|2019-04-12|      2014|417866|       2|        2|       2127|   10575|     2|         0|   0|\n",
      "|b672c137-b88c-48b...|2019-10-16|      2016|239895|       2|        2|       1631|   11149|     2|         0|   0|\n",
      "|e0726d4d-d595-407...|2022-01-08|      2017|424418|       3|        2|       2249|   13878|     2|         0|   4|\n",
      "|5aa00529-0533-46b...|2019-01-30|      2017|218712|       2|        3|       1965|   14375|     2|         0|   7|\n",
      "|131492a1-72e2-4a8...|2020-02-08|      2017|419199|       2|        3|       2062|    8876|     2|         0|   6|\n",
      "|8d54a71b-c520-44e...|2019-07-21|      2010|323956|       2|        3|       1506|   11816|     1|         0|  25|\n",
      "|e81aacfe-17fe-46b...|2020-06-16|      2016|181925|       3|        3|       2137|   11709|     2|         0|  22|\n",
      "|2ed8d509-7372-46d...|2021-08-06|      2015|258710|       3|        3|       1918|    9666|     1|         0|  25|\n",
      "|f876d86f-3c9f-42b...|2019-02-27|      2011|167864|       3|        3|       2471|   13924|     2|         0|  15|\n",
      "|0a2bd445-8508-4d8...|2021-12-30|      2014|337527|       2|        3|       1926|   12556|     1|         0|  23|\n",
      "|941bad30-eb49-4a7...|2020-05-09|      2015|229896|       3|        3|       2197|    8641|     1|         0|   3|\n",
      "|dd61eb34-6589-4c0...|2021-07-25|      2016|210247|       3|        2|       1672|   11986|     2|         0|  28|\n",
      "|f1e4cef7-d151-439...|2019-02-01|      2011|398667|       2|        3|       2331|   11356|     1|         0|   7|\n",
      "|ea620c7b-c2f7-4c6...|2021-05-31|      2011|437958|       3|        3|       2356|   11052|     1|         0|  26|\n",
      "|f233cb41-6f33-4b0...|2021-07-18|      2016|437375|       4|        3|       1704|   11721|     2|         0|  34|\n",
      "|c797ca12-52cd-4b1...|2019-06-08|      2015|288650|       2|        3|       2100|   10419|     2|         0|   7|\n",
      "|0cfe57f3-28c2-472...|2019-10-04|      2015|308313|       3|        3|       1960|    9453|     2|         0|   2|\n",
      "|4566cd2a-ac6e-435...|2019-07-15|      2016|177541|       3|        3|       2130|   10517|     2|         0|  25|\n",
      "+--------------------+----------+----------+------+--------+---------+-----------+--------+------+----------+----+\n",
      "only showing top 20 rows\n",
      "\n"
     ]
    }
   ],
   "source": [
    "# 1. Read in the AWS S3 bucket into a DataFrame.\n",
    "from pyspark import SparkFiles\n",
    "url = \"https://2u-data-curriculum-team.s3.amazonaws.com/dataviz-classroom/v1.2/22-big-data/home_sales_revised.csv\"\n",
    "spark.sparkContext.addFile(url)\n",
    "df = spark.read.csv(SparkFiles.get(\"home_sales_revised.csv\"), sep=\",\", header=True)\n",
    "df.show()\n"
   ]
  },
  {
   "cell_type": "code",
   "execution_count": 8,
   "metadata": {
    "executionInfo": {
     "elapsed": 161,
     "status": "ok",
     "timestamp": 1713232549263,
     "user": {
      "displayName": "Henry Nguyen",
      "userId": "14859918641636892150"
     },
     "user_tz": 300
    },
    "id": "RoljcJ7WPpnm"
   },
   "outputs": [],
   "source": [
    "# 2. Create a temporary view of the DataFrame.\n",
    "df.createOrReplaceTempView(\"home_sales\")\n"
   ]
  },
  {
   "cell_type": "code",
   "execution_count": 9,
   "metadata": {
    "colab": {
     "base_uri": "https://localhost:8080/"
    },
    "executionInfo": {
     "elapsed": 6246,
     "status": "ok",
     "timestamp": 1713232555507,
     "user": {
      "displayName": "Henry Nguyen",
      "userId": "14859918641636892150"
     },
     "user_tz": 300
    },
    "id": "L6fkwOeOmqvq",
    "outputId": "ab22add4-94c2-468d-9e05-45ccb0798cbe"
   },
   "outputs": [
    {
     "name": "stdout",
     "output_type": "stream",
     "text": [
      "+------------+--------------------------+\n",
      "|Year_Of_Sale|Four_Bedroom_Average_Price|\n",
      "+------------+--------------------------+\n",
      "|        2019|                  300263.7|\n",
      "|        2020|                 298353.78|\n",
      "|        2021|                 301819.44|\n",
      "|        2022|                 296363.88|\n",
      "+------------+--------------------------+\n",
      "\n"
     ]
    }
   ],
   "source": [
    "# 3. What is the average price for a four bedroom house sold per year, rounded to two decimal places?\n",
    "spark.sql(\"\"\"\n",
    "SELECT YEAR(date) as Year_Of_Sale, ROUND(AVG(price), 2) Four_Bedroom_Average_Price\n",
    "FROM home_sales\n",
    "WHERE bedrooms = 4\n",
    "GROUP BY Year_Of_Sale\n",
    "ORDER BY Year_Of_Sale ASC\"\"\").show()\n"
   ]
  },
  {
   "cell_type": "code",
   "execution_count": 10,
   "metadata": {
    "colab": {
     "base_uri": "https://localhost:8080/"
    },
    "executionInfo": {
     "elapsed": 2437,
     "status": "ok",
     "timestamp": 1713232557939,
     "user": {
      "displayName": "Henry Nguyen",
      "userId": "14859918641636892150"
     },
     "user_tz": 300
    },
    "id": "l8p_tUS8h8it",
    "outputId": "a0ac1aed-1665-495f-e07e-a13eb789028c"
   },
   "outputs": [
    {
     "name": "stdout",
     "output_type": "stream",
     "text": [
      "+-----+----------------------------------+\n",
      "|Built|Three_Bed_Three_Bath_Average_Price|\n",
      "+-----+----------------------------------+\n",
      "| 2010|                         287529.97|\n",
      "| 2011|                         294656.14|\n",
      "| 2012|                         289533.13|\n",
      "| 2013|                         291870.89|\n",
      "| 2014|                         289935.92|\n",
      "| 2015|                          299517.5|\n",
      "| 2016|                         289090.11|\n",
      "| 2017|                         289100.17|\n",
      "+-----+----------------------------------+\n",
      "\n"
     ]
    }
   ],
   "source": [
    "# 4. What is the average price of a home for each year the home was built,\n",
    "# that have 3 bedrooms and 3 bathrooms, rounded to two decimal places?\n",
    "spark.sql(\"\"\"\n",
    "SELECT date_built as Built, ROUND(AVG(price), 2) as  Three_Bed_Three_Bath_Average_Price\n",
    "FROM home_sales\n",
    "WHERE bedrooms = 4 AND bathrooms = 3\n",
    "GROUP BY date_built\n",
    "ORDER BY date_built ASC\"\"\").show()\n"
   ]
  },
  {
   "cell_type": "code",
   "execution_count": 11,
   "metadata": {
    "colab": {
     "base_uri": "https://localhost:8080/"
    },
    "executionInfo": {
     "elapsed": 1706,
     "status": "ok",
     "timestamp": 1713232559640,
     "user": {
      "displayName": "Henry Nguyen",
      "userId": "14859918641636892150"
     },
     "user_tz": 300
    },
    "id": "Y-Eytz64liDU",
    "outputId": "78949664-0178-4dbf-9771-cd67908a47d2"
   },
   "outputs": [
    {
     "name": "stdout",
     "output_type": "stream",
     "text": [
      "+-----+----------------------------------------------------------+\n",
      "|Built|Three_Bed_Three_Bath_Two_Floors_Min_2000SqFt_Average_Price|\n",
      "+-----+----------------------------------------------------------+\n",
      "| 2010|                                                 280447.23|\n",
      "| 2011|                                                 281413.45|\n",
      "| 2012|                                                 295858.68|\n",
      "| 2013|                                                 295142.13|\n",
      "| 2014|                                                 294195.13|\n",
      "| 2015|                                                 291788.36|\n",
      "| 2016|                                                  287812.6|\n",
      "| 2017|                                                 282026.59|\n",
      "+-----+----------------------------------------------------------+\n",
      "\n"
     ]
    }
   ],
   "source": [
    "# 5. What is the average price of a home for each year the home was built,\n",
    "# that have 3 bedrooms, 3 bathrooms, with two floors,\n",
    "# and are greater than or equal to 2,000 square feet, rounded to two decimal places?\n",
    "spark.sql(\"\"\"\n",
    "SELECT date_built as Built, ROUND(AVG(price), 2) as  Three_Bed_Three_Bath_Two_Floors_Min_2000SqFt_Average_Price\n",
    "FROM home_sales\n",
    "WHERE bedrooms = 3 AND bathrooms = 3 AND floors = 2 AND sqft_lot >= 2000\n",
    "GROUP BY date_built\n",
    "ORDER BY date_built ASC\"\"\").show()\n"
   ]
  },
  {
   "cell_type": "code",
   "execution_count": 12,
   "metadata": {
    "colab": {
     "base_uri": "https://localhost:8080/"
    },
    "executionInfo": {
     "elapsed": 1337,
     "status": "ok",
     "timestamp": 1713232560970,
     "user": {
      "displayName": "Henry Nguyen",
      "userId": "14859918641636892150"
     },
     "user_tz": 300
    },
    "id": "GUrfgOX1pCRd",
    "outputId": "ae0e96af-a396-4f19-d0c9-fece2686fbca"
   },
   "outputs": [
    {
     "name": "stdout",
     "output_type": "stream",
     "text": [
      "+-----+-------------+\n",
      "|view_|Average_Price|\n",
      "+-----+-------------+\n",
      "|  100|    1026669.5|\n",
      "|   99|   1061201.42|\n",
      "|   98|   1053739.33|\n",
      "|   97|   1129040.15|\n",
      "|   96|   1017815.92|\n",
      "|   95|    1054325.6|\n",
      "|   94|    1033536.2|\n",
      "|   93|   1026006.06|\n",
      "|   92|    970402.55|\n",
      "|   91|   1137372.73|\n",
      "|   90|   1062654.16|\n",
      "|   89|   1107839.15|\n",
      "|   88|   1031719.35|\n",
      "|   87|    1072285.2|\n",
      "|   86|   1070444.25|\n",
      "|   85|   1056336.74|\n",
      "|   84|   1117233.13|\n",
      "|   83|   1033965.93|\n",
      "|   82|    1063498.0|\n",
      "|   81|   1053472.79|\n",
      "+-----+-------------+\n",
      "only showing top 20 rows\n",
      "\n",
      "--- 1.0802316665649414 seconds ---\n"
     ]
    }
   ],
   "source": [
    "# 6. What is the average price of a home per \"view\" rating, rounded to two decimal places,\n",
    "# having an average home price greater than or equal to $350,000? Order by descending view rating.\n",
    "# Although this is a small dataset, determine the run time for this query.\n",
    "\n",
    "start_time = time.time()\n",
    "spark.sql(\"\"\"\n",
    "SELECT CAST(view as Int) as view_, ROUND(AVG(price), 2) as  Average_Price\n",
    "FROM home_sales\n",
    "WHERE price >= 350000\n",
    "GROUP BY view_\n",
    "ORDER BY view_ DESC\"\"\").show()\n",
    "\n",
    "print(\"--- %s seconds ---\" % (time.time() - start_time))"
   ]
  },
  {
   "cell_type": "code",
   "execution_count": 13,
   "metadata": {
    "colab": {
     "base_uri": "https://localhost:8080/"
    },
    "executionInfo": {
     "elapsed": 1963,
     "status": "ok",
     "timestamp": 1713232562927,
     "user": {
      "displayName": "Henry Nguyen",
      "userId": "14859918641636892150"
     },
     "user_tz": 300
    },
    "id": "KAhk3ZD2tFy8",
    "outputId": "664a83a1-f82f-4bbe-f429-2e34ab2212ec"
   },
   "outputs": [
    {
     "data": {
      "text/plain": [
       "DataFrame[]"
      ]
     },
     "execution_count": 13,
     "metadata": {},
     "output_type": "execute_result"
    }
   ],
   "source": [
    "# 7. Cache the the temporary table home_sales.\n",
    "spark.sql(\"cache table home_sales\")"
   ]
  },
  {
   "cell_type": "code",
   "execution_count": 14,
   "metadata": {
    "colab": {
     "base_uri": "https://localhost:8080/"
    },
    "executionInfo": {
     "elapsed": 11,
     "status": "ok",
     "timestamp": 1713232562928,
     "user": {
      "displayName": "Henry Nguyen",
      "userId": "14859918641636892150"
     },
     "user_tz": 300
    },
    "id": "4opVhbvxtL-i",
    "outputId": "4c5f5450-f59b-4070-8287-1b9d54946815"
   },
   "outputs": [
    {
     "data": {
      "text/plain": [
       "True"
      ]
     },
     "execution_count": 14,
     "metadata": {},
     "output_type": "execute_result"
    }
   ],
   "source": [
    "# 8. Check if the table is cached.\n",
    "spark.catalog.isCached('home_sales')"
   ]
  },
  {
   "cell_type": "code",
   "execution_count": 15,
   "metadata": {
    "colab": {
     "base_uri": "https://localhost:8080/"
    },
    "executionInfo": {
     "elapsed": 763,
     "status": "ok",
     "timestamp": 1713232563684,
     "user": {
      "displayName": "Henry Nguyen",
      "userId": "14859918641636892150"
     },
     "user_tz": 300
    },
    "id": "5GnL46lwTSEk",
    "outputId": "4c26bcff-ae3d-484f-f5a7-816d1d2fb103"
   },
   "outputs": [
    {
     "name": "stdout",
     "output_type": "stream",
     "text": [
      "+-----+-------------+\n",
      "|view_|Average_Price|\n",
      "+-----+-------------+\n",
      "|  100|    1026669.5|\n",
      "|   99|   1061201.42|\n",
      "|   98|   1053739.33|\n",
      "|   97|   1129040.15|\n",
      "|   96|   1017815.92|\n",
      "|   95|    1054325.6|\n",
      "|   94|    1033536.2|\n",
      "|   93|   1026006.06|\n",
      "|   92|    970402.55|\n",
      "|   91|   1137372.73|\n",
      "|   90|   1062654.16|\n",
      "|   89|   1107839.15|\n",
      "|   88|   1031719.35|\n",
      "|   87|    1072285.2|\n",
      "|   86|   1070444.25|\n",
      "|   85|   1056336.74|\n",
      "|   84|   1117233.13|\n",
      "|   83|   1033965.93|\n",
      "|   82|    1063498.0|\n",
      "|   81|   1053472.79|\n",
      "+-----+-------------+\n",
      "only showing top 20 rows\n",
      "\n",
      "--- 0.7373154163360596 seconds ---\n"
     ]
    }
   ],
   "source": [
    "# 9. Using the cached data, run the last query above, that calculates\n",
    "# the average price of a home per \"view\" rating, rounded to two decimal places,\n",
    "# having an average home price greater than or equal to $350,000.\n",
    "# Determine the runtime and compare it to the uncached runtime.\n",
    "\n",
    "start_time = time.time()\n",
    "\n",
    "spark.sql(\"\"\"\n",
    "SELECT CAST(view as Int) as view_, ROUND(AVG(price), 2) as  Average_Price\n",
    "FROM home_sales\n",
    "WHERE price >= 350000\n",
    "GROUP BY view_\n",
    "ORDER BY view_ DESC\"\"\").show()\n",
    "\n",
    "print(\"--- %s seconds ---\" % (time.time() - start_time))\n"
   ]
  },
  {
   "cell_type": "code",
   "execution_count": 16,
   "metadata": {
    "executionInfo": {
     "elapsed": 4612,
     "status": "ok",
     "timestamp": 1713232568294,
     "user": {
      "displayName": "Henry Nguyen",
      "userId": "14859918641636892150"
     },
     "user_tz": 300
    },
    "id": "Qm12WN9isHBR"
   },
   "outputs": [],
   "source": [
    "# 10. Partition by the \"date_built\" field on the formatted parquet home sales data\n",
    "df.write.partitionBy(\"date_built\").mode(\"overwrite\").parquet(\"date_built_partitioned\")"
   ]
  },
  {
   "cell_type": "code",
   "execution_count": 17,
   "metadata": {
    "executionInfo": {
     "elapsed": 337,
     "status": "ok",
     "timestamp": 1713232568614,
     "user": {
      "displayName": "Henry Nguyen",
      "userId": "14859918641636892150"
     },
     "user_tz": 300
    },
    "id": "AZ7BgY61sRqY"
   },
   "outputs": [],
   "source": [
    "# 11. Read the parquet formatted data.\n",
    "df_p = spark.read.parquet(\"date_built_partitioned\")"
   ]
  },
  {
   "cell_type": "code",
   "execution_count": 18,
   "metadata": {
    "executionInfo": {
     "elapsed": 3,
     "status": "ok",
     "timestamp": 1713232568614,
     "user": {
      "displayName": "Henry Nguyen",
      "userId": "14859918641636892150"
     },
     "user_tz": 300
    },
    "id": "J6MJkHfvVcvh"
   },
   "outputs": [],
   "source": [
    "# 12. Create a temporary table for the parquet data.\n",
    "df_p.createOrReplaceTempView(\"home_sales_p\")"
   ]
  },
  {
   "cell_type": "code",
   "execution_count": 19,
   "metadata": {
    "colab": {
     "base_uri": "https://localhost:8080/"
    },
    "executionInfo": {
     "elapsed": 1201,
     "status": "ok",
     "timestamp": 1713232569813,
     "user": {
      "displayName": "Henry Nguyen",
      "userId": "14859918641636892150"
     },
     "user_tz": 300
    },
    "id": "G_Vhb52rU1Sn",
    "outputId": "e8694ef9-b44b-4061-d686-8e0b676da3b4"
   },
   "outputs": [
    {
     "name": "stdout",
     "output_type": "stream",
     "text": [
      "+-----+-------------+\n",
      "|view_|Average_Price|\n",
      "+-----+-------------+\n",
      "|  100|    1026669.5|\n",
      "|   99|   1061201.42|\n",
      "|   98|   1053739.33|\n",
      "|   97|   1129040.15|\n",
      "|   96|   1017815.92|\n",
      "|   95|    1054325.6|\n",
      "|   94|    1033536.2|\n",
      "|   93|   1026006.06|\n",
      "|   92|    970402.55|\n",
      "|   91|   1137372.73|\n",
      "|   90|   1062654.16|\n",
      "|   89|   1107839.15|\n",
      "|   88|   1031719.35|\n",
      "|   87|    1072285.2|\n",
      "|   86|   1070444.25|\n",
      "|   85|   1056336.74|\n",
      "|   84|   1117233.13|\n",
      "|   83|   1033965.93|\n",
      "|   82|    1063498.0|\n",
      "|   81|   1053472.79|\n",
      "+-----+-------------+\n",
      "only showing top 20 rows\n",
      "\n",
      "--- 1.1135621070861816 seconds ---\n"
     ]
    }
   ],
   "source": [
    "# 13. Using the parquet DataFrame, run the last query above, that calculates\n",
    "# the average price of a home per \"view\" rating, rounded to two decimal places,\n",
    "# having an average home price greater than or equal to $350,000.\n",
    "# Determine the runtime and compare it to the cached runtime.\n",
    "\n",
    "start_time = time.time()\n",
    "\n",
    "spark.sql(\"\"\"\n",
    "SELECT CAST(view as Int) as view_, ROUND(AVG(price), 2) as  Average_Price\n",
    "FROM home_sales_p\n",
    "WHERE price >= 350000\n",
    "GROUP BY view_\n",
    "ORDER BY view_ DESC\"\"\").show()\n",
    "\n",
    "print(\"--- %s seconds ---\" % (time.time() - start_time))"
   ]
  },
  {
   "cell_type": "code",
   "execution_count": 20,
   "metadata": {
    "colab": {
     "base_uri": "https://localhost:8080/"
    },
    "executionInfo": {
     "elapsed": 3,
     "status": "ok",
     "timestamp": 1713232569813,
     "user": {
      "displayName": "Henry Nguyen",
      "userId": "14859918641636892150"
     },
     "user_tz": 300
    },
    "id": "hjjYzQGjtbq8",
    "outputId": "4fa7d711-f9cc-4b41-aa9c-e8e78dc3c7a2"
   },
   "outputs": [
    {
     "data": {
      "text/plain": [
       "DataFrame[]"
      ]
     },
     "execution_count": 20,
     "metadata": {},
     "output_type": "execute_result"
    }
   ],
   "source": [
    "# 14. Uncache the home_sales temporary table.\n",
    "spark.sql(\"uncache table home_sales\")"
   ]
  },
  {
   "cell_type": "code",
   "execution_count": 21,
   "metadata": {
    "colab": {
     "base_uri": "https://localhost:8080/"
    },
    "executionInfo": {
     "elapsed": 139,
     "status": "ok",
     "timestamp": 1713232569950,
     "user": {
      "displayName": "Henry Nguyen",
      "userId": "14859918641636892150"
     },
     "user_tz": 300
    },
    "id": "Sy9NBvO7tlmm",
    "outputId": "32e1cf6f-1a85-482c-fa8f-c1238e50fc51"
   },
   "outputs": [
    {
     "data": {
      "text/plain": [
       "False"
      ]
     },
     "execution_count": 21,
     "metadata": {},
     "output_type": "execute_result"
    }
   ],
   "source": [
    "# 15. Check if the home_sales is no longer cached\n",
    "spark.catalog.isCached('home_sales')"
   ]
  },
  {
   "cell_type": "code",
   "execution_count": 21,
   "metadata": {
    "executionInfo": {
     "elapsed": 1,
     "status": "ok",
     "timestamp": 1713232569950,
     "user": {
      "displayName": "Henry Nguyen",
      "userId": "14859918641636892150"
     },
     "user_tz": 300
    },
    "id": "Si-BNruRUGK3"
   },
   "outputs": [],
   "source": []
  }
 ],
 "metadata": {
  "colab": {
   "provenance": []
  },
  "gpuClass": "standard",
  "kernelspec": {
   "display_name": "Python 3 (ipykernel)",
   "language": "python",
   "name": "python3"
  },
  "language_info": {
   "codemirror_mode": {
    "name": "ipython",
    "version": 3
   },
   "file_extension": ".py",
   "mimetype": "text/x-python",
   "name": "python",
   "nbconvert_exporter": "python",
   "pygments_lexer": "ipython3",
   "version": "3.10.13"
  },
  "nteract": {
   "version": "0.28.0"
  }
 },
 "nbformat": 4,
 "nbformat_minor": 1
}
